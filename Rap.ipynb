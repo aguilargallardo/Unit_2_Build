{
  "nbformat": 4,
  "nbformat_minor": 0,
  "metadata": {
    "colab": {
      "name": "Rap.ipynb",
      "provenance": [],
      "include_colab_link": true
    },
    "kernelspec": {
      "name": "python3",
      "display_name": "Python 3"
    }
  },
  "cells": [
    {
      "cell_type": "markdown",
      "metadata": {
        "id": "view-in-github",
        "colab_type": "text"
      },
      "source": [
        "<a href=\"https://colab.research.google.com/github/aguilargallardo/Unit_2_Build/blob/master/Rap.ipynb\" target=\"_parent\"><img src=\"https://colab.research.google.com/assets/colab-badge.svg\" alt=\"Open In Colab\"/></a>"
      ]
    },
    {
      "cell_type": "code",
      "metadata": {
        "id": "_QaIJMX1QKEZ",
        "colab_type": "code",
        "colab": {
          "base_uri": "https://localhost:8080/",
          "height": 204
        },
        "outputId": "eee967b0-1f5b-4ae1-c281-60e0f526868c"
      },
      "source": [
        "!wget \"https://raw.githubusercontent.com/aguilargallardo/DS-Unit-2-Applied-Modeling/master/data/SpotifyFeatures.csv\""
      ],
      "execution_count": 1,
      "outputs": [
        {
          "output_type": "stream",
          "text": [
            "--2020-01-08 18:55:28--  https://raw.githubusercontent.com/aguilargallardo/DS-Unit-2-Applied-Modeling/master/data/SpotifyFeatures.csv\n",
            "Resolving raw.githubusercontent.com (raw.githubusercontent.com)... 151.101.0.133, 151.101.64.133, 151.101.128.133, ...\n",
            "Connecting to raw.githubusercontent.com (raw.githubusercontent.com)|151.101.0.133|:443... connected.\n",
            "HTTP request sent, awaiting response... 200 OK\n",
            "Length: 33709086 (32M) [text/plain]\n",
            "Saving to: ‘SpotifyFeatures.csv.5’\n",
            "\n",
            "\rSpotifyFeatures.csv   0%[                    ]       0  --.-KB/s               \rSpotifyFeatures.csv 100%[===================>]  32.15M   165MB/s    in 0.2s    \n",
            "\n",
            "2020-01-08 18:55:29 (165 MB/s) - ‘SpotifyFeatures.csv.5’ saved [33709086/33709086]\n",
            "\n"
          ],
          "name": "stdout"
        }
      ]
    },
    {
      "cell_type": "code",
      "metadata": {
        "id": "ANv0F5SwQQkk",
        "colab_type": "code",
        "colab": {}
      },
      "source": [
        "import pandas as pd\n",
        "df = pd.read_csv('SpotifyFeatures.csv')"
      ],
      "execution_count": 0,
      "outputs": []
    },
    {
      "cell_type": "code",
      "metadata": {
        "id": "nOHurkvmU4kf",
        "colab_type": "code",
        "colab": {
          "base_uri": "https://localhost:8080/",
          "height": 255
        },
        "outputId": "cb254963-a485-4977-9bad-483bd9aec39a"
      },
      "source": [
        "df.head()"
      ],
      "execution_count": 3,
      "outputs": [
        {
          "output_type": "execute_result",
          "data": {
            "text/html": [
              "<div>\n",
              "<style scoped>\n",
              "    .dataframe tbody tr th:only-of-type {\n",
              "        vertical-align: middle;\n",
              "    }\n",
              "\n",
              "    .dataframe tbody tr th {\n",
              "        vertical-align: top;\n",
              "    }\n",
              "\n",
              "    .dataframe thead th {\n",
              "        text-align: right;\n",
              "    }\n",
              "</style>\n",
              "<table border=\"1\" class=\"dataframe\">\n",
              "  <thead>\n",
              "    <tr style=\"text-align: right;\">\n",
              "      <th></th>\n",
              "      <th>genre</th>\n",
              "      <th>artist_name</th>\n",
              "      <th>track_name</th>\n",
              "      <th>track_id</th>\n",
              "      <th>popularity</th>\n",
              "      <th>acousticness</th>\n",
              "      <th>danceability</th>\n",
              "      <th>duration_ms</th>\n",
              "      <th>energy</th>\n",
              "      <th>instrumentalness</th>\n",
              "      <th>key</th>\n",
              "      <th>liveness</th>\n",
              "      <th>loudness</th>\n",
              "      <th>mode</th>\n",
              "      <th>speechiness</th>\n",
              "      <th>tempo</th>\n",
              "      <th>time_signature</th>\n",
              "      <th>valence</th>\n",
              "    </tr>\n",
              "  </thead>\n",
              "  <tbody>\n",
              "    <tr>\n",
              "      <th>0</th>\n",
              "      <td>Movie</td>\n",
              "      <td>Henri Salvador</td>\n",
              "      <td>C'est beau de faire un Show</td>\n",
              "      <td>0BRjO6ga9RKCKjfDqeFgWV</td>\n",
              "      <td>0</td>\n",
              "      <td>0.611</td>\n",
              "      <td>0.389</td>\n",
              "      <td>99373</td>\n",
              "      <td>0.910</td>\n",
              "      <td>0.000</td>\n",
              "      <td>C#</td>\n",
              "      <td>0.3460</td>\n",
              "      <td>-1.828</td>\n",
              "      <td>Major</td>\n",
              "      <td>0.0525</td>\n",
              "      <td>166.969</td>\n",
              "      <td>4/4</td>\n",
              "      <td>0.814</td>\n",
              "    </tr>\n",
              "    <tr>\n",
              "      <th>1</th>\n",
              "      <td>Movie</td>\n",
              "      <td>Martin &amp; les fées</td>\n",
              "      <td>Perdu d'avance (par Gad Elmaleh)</td>\n",
              "      <td>0BjC1NfoEOOusryehmNudP</td>\n",
              "      <td>1</td>\n",
              "      <td>0.246</td>\n",
              "      <td>0.590</td>\n",
              "      <td>137373</td>\n",
              "      <td>0.737</td>\n",
              "      <td>0.000</td>\n",
              "      <td>F#</td>\n",
              "      <td>0.1510</td>\n",
              "      <td>-5.559</td>\n",
              "      <td>Minor</td>\n",
              "      <td>0.0868</td>\n",
              "      <td>174.003</td>\n",
              "      <td>4/4</td>\n",
              "      <td>0.816</td>\n",
              "    </tr>\n",
              "    <tr>\n",
              "      <th>2</th>\n",
              "      <td>Movie</td>\n",
              "      <td>Joseph Williams</td>\n",
              "      <td>Don't Let Me Be Lonely Tonight</td>\n",
              "      <td>0CoSDzoNIKCRs124s9uTVy</td>\n",
              "      <td>3</td>\n",
              "      <td>0.952</td>\n",
              "      <td>0.663</td>\n",
              "      <td>170267</td>\n",
              "      <td>0.131</td>\n",
              "      <td>0.000</td>\n",
              "      <td>C</td>\n",
              "      <td>0.1030</td>\n",
              "      <td>-13.879</td>\n",
              "      <td>Minor</td>\n",
              "      <td>0.0362</td>\n",
              "      <td>99.488</td>\n",
              "      <td>5/4</td>\n",
              "      <td>0.368</td>\n",
              "    </tr>\n",
              "    <tr>\n",
              "      <th>3</th>\n",
              "      <td>Movie</td>\n",
              "      <td>Henri Salvador</td>\n",
              "      <td>Dis-moi Monsieur Gordon Cooper</td>\n",
              "      <td>0Gc6TVm52BwZD07Ki6tIvf</td>\n",
              "      <td>0</td>\n",
              "      <td>0.703</td>\n",
              "      <td>0.240</td>\n",
              "      <td>152427</td>\n",
              "      <td>0.326</td>\n",
              "      <td>0.000</td>\n",
              "      <td>C#</td>\n",
              "      <td>0.0985</td>\n",
              "      <td>-12.178</td>\n",
              "      <td>Major</td>\n",
              "      <td>0.0395</td>\n",
              "      <td>171.758</td>\n",
              "      <td>4/4</td>\n",
              "      <td>0.227</td>\n",
              "    </tr>\n",
              "    <tr>\n",
              "      <th>4</th>\n",
              "      <td>Movie</td>\n",
              "      <td>Fabien Nataf</td>\n",
              "      <td>Ouverture</td>\n",
              "      <td>0IuslXpMROHdEPvSl1fTQK</td>\n",
              "      <td>4</td>\n",
              "      <td>0.950</td>\n",
              "      <td>0.331</td>\n",
              "      <td>82625</td>\n",
              "      <td>0.225</td>\n",
              "      <td>0.123</td>\n",
              "      <td>F</td>\n",
              "      <td>0.2020</td>\n",
              "      <td>-21.150</td>\n",
              "      <td>Major</td>\n",
              "      <td>0.0456</td>\n",
              "      <td>140.576</td>\n",
              "      <td>4/4</td>\n",
              "      <td>0.390</td>\n",
              "    </tr>\n",
              "  </tbody>\n",
              "</table>\n",
              "</div>"
            ],
            "text/plain": [
              "   genre        artist_name  ... time_signature valence\n",
              "0  Movie     Henri Salvador  ...            4/4   0.814\n",
              "1  Movie  Martin & les fées  ...            4/4   0.816\n",
              "2  Movie    Joseph Williams  ...            5/4   0.368\n",
              "3  Movie     Henri Salvador  ...            4/4   0.227\n",
              "4  Movie       Fabien Nataf  ...            4/4   0.390\n",
              "\n",
              "[5 rows x 18 columns]"
            ]
          },
          "metadata": {
            "tags": []
          },
          "execution_count": 3
        }
      ]
    },
    {
      "cell_type": "code",
      "metadata": {
        "id": "YiwuAUJRsvCi",
        "colab_type": "code",
        "colab": {
          "base_uri": "https://localhost:8080/",
          "height": 493
        },
        "outputId": "b88c2af4-337e-49bb-c722-02417a240e79"
      },
      "source": [
        "df.genre.value_counts()"
      ],
      "execution_count": 4,
      "outputs": [
        {
          "output_type": "execute_result",
          "data": {
            "text/plain": [
              "Comedy              9681\n",
              "Soundtrack          9646\n",
              "Indie               9543\n",
              "Jazz                9441\n",
              "Pop                 9386\n",
              "Electronic          9377\n",
              "Children’s Music    9353\n",
              "Folk                9299\n",
              "Hip-Hop             9295\n",
              "Rock                9272\n",
              "Alternative         9263\n",
              "Classical           9256\n",
              "Rap                 9232\n",
              "World               9096\n",
              "Soul                9089\n",
              "Blues               9023\n",
              "R&B                 8992\n",
              "Anime               8936\n",
              "Reggaeton           8927\n",
              "Ska                 8874\n",
              "Reggae              8771\n",
              "Dance               8701\n",
              "Country             8664\n",
              "Opera               8280\n",
              "Movie               7806\n",
              "Children's Music    5403\n",
              "A Capella            119\n",
              "Name: genre, dtype: int64"
            ]
          },
          "metadata": {
            "tags": []
          },
          "execution_count": 4
        }
      ]
    },
    {
      "cell_type": "code",
      "metadata": {
        "id": "T20Yjx4RLlNs",
        "colab_type": "code",
        "colab": {
          "base_uri": "https://localhost:8080/",
          "height": 34
        },
        "outputId": "982dc9a7-95fd-4c43-e2fd-a0e36a593fa9"
      },
      "source": [
        "df.genre.nunique()"
      ],
      "execution_count": 5,
      "outputs": [
        {
          "output_type": "execute_result",
          "data": {
            "text/plain": [
              "27"
            ]
          },
          "metadata": {
            "tags": []
          },
          "execution_count": 5
        }
      ]
    },
    {
      "cell_type": "code",
      "metadata": {
        "id": "0fjvJ_bF9v6K",
        "colab_type": "code",
        "colab": {}
      },
      "source": [
        "# df['id'] = df.groupby(['artist_name']).ngroup()"
      ],
      "execution_count": 0,
      "outputs": []
    },
    {
      "cell_type": "markdown",
      "metadata": {
        "id": "agqtuR9_bdcT",
        "colab_type": "text"
      },
      "source": [
        "# RAP"
      ]
    },
    {
      "cell_type": "code",
      "metadata": {
        "id": "R5-d23yDaUDI",
        "colab_type": "code",
        "colab": {}
      },
      "source": [
        "Rap = df[df.genre == 'Rap']"
      ],
      "execution_count": 0,
      "outputs": []
    },
    {
      "cell_type": "code",
      "metadata": {
        "id": "s3_EHc2ws3TK",
        "colab_type": "code",
        "colab": {
          "base_uri": "https://localhost:8080/",
          "height": 221
        },
        "outputId": "9b61407d-412b-4664-95bd-184cbc2bd431"
      },
      "source": [
        "Rap.head()"
      ],
      "execution_count": 8,
      "outputs": [
        {
          "output_type": "execute_result",
          "data": {
            "text/html": [
              "<div>\n",
              "<style scoped>\n",
              "    .dataframe tbody tr th:only-of-type {\n",
              "        vertical-align: middle;\n",
              "    }\n",
              "\n",
              "    .dataframe tbody tr th {\n",
              "        vertical-align: top;\n",
              "    }\n",
              "\n",
              "    .dataframe thead th {\n",
              "        text-align: right;\n",
              "    }\n",
              "</style>\n",
              "<table border=\"1\" class=\"dataframe\">\n",
              "  <thead>\n",
              "    <tr style=\"text-align: right;\">\n",
              "      <th></th>\n",
              "      <th>genre</th>\n",
              "      <th>artist_name</th>\n",
              "      <th>track_name</th>\n",
              "      <th>track_id</th>\n",
              "      <th>popularity</th>\n",
              "      <th>acousticness</th>\n",
              "      <th>danceability</th>\n",
              "      <th>duration_ms</th>\n",
              "      <th>energy</th>\n",
              "      <th>instrumentalness</th>\n",
              "      <th>key</th>\n",
              "      <th>liveness</th>\n",
              "      <th>loudness</th>\n",
              "      <th>mode</th>\n",
              "      <th>speechiness</th>\n",
              "      <th>tempo</th>\n",
              "      <th>time_signature</th>\n",
              "      <th>valence</th>\n",
              "    </tr>\n",
              "  </thead>\n",
              "  <tbody>\n",
              "    <tr>\n",
              "      <th>86951</th>\n",
              "      <td>Rap</td>\n",
              "      <td>Post Malone</td>\n",
              "      <td>Wow.</td>\n",
              "      <td>6MWtB6iiXyIwun0YzU6DFP</td>\n",
              "      <td>99</td>\n",
              "      <td>0.16300</td>\n",
              "      <td>0.833</td>\n",
              "      <td>149520</td>\n",
              "      <td>0.539</td>\n",
              "      <td>0.000002</td>\n",
              "      <td>B</td>\n",
              "      <td>0.1010</td>\n",
              "      <td>-7.399</td>\n",
              "      <td>Minor</td>\n",
              "      <td>0.1780</td>\n",
              "      <td>99.947</td>\n",
              "      <td>4/4</td>\n",
              "      <td>0.385</td>\n",
              "    </tr>\n",
              "    <tr>\n",
              "      <th>86952</th>\n",
              "      <td>Rap</td>\n",
              "      <td>J. Cole</td>\n",
              "      <td>MIDDLE CHILD</td>\n",
              "      <td>2JvzF1RMd7lE3KmFlsyZD8</td>\n",
              "      <td>96</td>\n",
              "      <td>0.14900</td>\n",
              "      <td>0.837</td>\n",
              "      <td>213594</td>\n",
              "      <td>0.364</td>\n",
              "      <td>0.000000</td>\n",
              "      <td>G#</td>\n",
              "      <td>0.2710</td>\n",
              "      <td>-11.713</td>\n",
              "      <td>Major</td>\n",
              "      <td>0.2760</td>\n",
              "      <td>123.984</td>\n",
              "      <td>4/4</td>\n",
              "      <td>0.463</td>\n",
              "    </tr>\n",
              "    <tr>\n",
              "      <th>86953</th>\n",
              "      <td>Rap</td>\n",
              "      <td>Post Malone</td>\n",
              "      <td>Sunflower - Spider-Man: Into the Spider-Verse</td>\n",
              "      <td>3KkXRkHbMCARz0aVfEt68P</td>\n",
              "      <td>97</td>\n",
              "      <td>0.55600</td>\n",
              "      <td>0.760</td>\n",
              "      <td>158040</td>\n",
              "      <td>0.479</td>\n",
              "      <td>0.000000</td>\n",
              "      <td>D</td>\n",
              "      <td>0.0703</td>\n",
              "      <td>-5.574</td>\n",
              "      <td>Major</td>\n",
              "      <td>0.0466</td>\n",
              "      <td>89.911</td>\n",
              "      <td>4/4</td>\n",
              "      <td>0.913</td>\n",
              "    </tr>\n",
              "    <tr>\n",
              "      <th>86954</th>\n",
              "      <td>Rap</td>\n",
              "      <td>Travis Scott</td>\n",
              "      <td>SICKO MODE</td>\n",
              "      <td>2xLMifQCjDGFmkHkpNLD9h</td>\n",
              "      <td>94</td>\n",
              "      <td>0.00513</td>\n",
              "      <td>0.834</td>\n",
              "      <td>312820</td>\n",
              "      <td>0.730</td>\n",
              "      <td>0.000000</td>\n",
              "      <td>G#</td>\n",
              "      <td>0.1240</td>\n",
              "      <td>-3.714</td>\n",
              "      <td>Major</td>\n",
              "      <td>0.2220</td>\n",
              "      <td>155.008</td>\n",
              "      <td>4/4</td>\n",
              "      <td>0.446</td>\n",
              "    </tr>\n",
              "    <tr>\n",
              "      <th>86955</th>\n",
              "      <td>Rap</td>\n",
              "      <td>Meek Mill</td>\n",
              "      <td>Going Bad (feat. Drake)</td>\n",
              "      <td>2IRZnDFmlqMuOrYOLnZZyc</td>\n",
              "      <td>95</td>\n",
              "      <td>0.25900</td>\n",
              "      <td>0.889</td>\n",
              "      <td>180522</td>\n",
              "      <td>0.496</td>\n",
              "      <td>0.000000</td>\n",
              "      <td>E</td>\n",
              "      <td>0.2520</td>\n",
              "      <td>-6.365</td>\n",
              "      <td>Minor</td>\n",
              "      <td>0.0905</td>\n",
              "      <td>86.003</td>\n",
              "      <td>4/4</td>\n",
              "      <td>0.544</td>\n",
              "    </tr>\n",
              "  </tbody>\n",
              "</table>\n",
              "</div>"
            ],
            "text/plain": [
              "      genre   artist_name  ... time_signature valence\n",
              "86951   Rap   Post Malone  ...            4/4   0.385\n",
              "86952   Rap       J. Cole  ...            4/4   0.463\n",
              "86953   Rap   Post Malone  ...            4/4   0.913\n",
              "86954   Rap  Travis Scott  ...            4/4   0.446\n",
              "86955   Rap     Meek Mill  ...            4/4   0.544\n",
              "\n",
              "[5 rows x 18 columns]"
            ]
          },
          "metadata": {
            "tags": []
          },
          "execution_count": 8
        }
      ]
    },
    {
      "cell_type": "code",
      "metadata": {
        "id": "KPyvzdwttP7v",
        "colab_type": "code",
        "colab": {}
      },
      "source": [
        "Rap = Rap.sort_values(by='popularity', ascending=False)"
      ],
      "execution_count": 0,
      "outputs": []
    },
    {
      "cell_type": "code",
      "metadata": {
        "id": "bTbOnUEyteeP",
        "colab_type": "code",
        "colab": {
          "base_uri": "https://localhost:8080/",
          "height": 408
        },
        "outputId": "9e2ab13f-7032-4774-ddb7-cc557c03b819"
      },
      "source": [
        "Rap.head(20), Rap.shape"
      ],
      "execution_count": 10,
      "outputs": [
        {
          "output_type": "execute_result",
          "data": {
            "text/plain": [
              "(      genre             artist_name  ... time_signature valence\n",
              " 86951   Rap             Post Malone  ...            4/4   0.385\n",
              " 86953   Rap             Post Malone  ...            4/4   0.913\n",
              " 86952   Rap                 J. Cole  ...            4/4   0.463\n",
              " 86955   Rap               Meek Mill  ...            4/4   0.544\n",
              " 86954   Rap            Travis Scott  ...            4/4   0.446\n",
              " 86965   Rap             Post Malone  ...            4/4   0.374\n",
              " 86961   Rap             Kodak Black  ...            4/4   0.504\n",
              " 86957   Rap               21 Savage  ...            4/4   0.274\n",
              " 86956   Rap                Blueface  ...            4/4   0.391\n",
              " 86958   Rap                Lil Baby  ...            4/4   0.358\n",
              " 86963   Rap              Juice WRLD  ...            4/4   0.218\n",
              " 86967   Rap               Sheck Wes  ...            4/4   0.261\n",
              " 86970   Rap            XXXTENTACION  ...            4/4   0.473\n",
              " 86960   Rap              Juice WRLD  ...            4/4   0.535\n",
              " 86962   Rap  A Boogie Wit da Hoodie  ...            4/4   0.434\n",
              " 86974   Rap            XXXTENTACION  ...            4/4   0.711\n",
              " 86966   Rap                 Mustard  ...            4/4   0.137\n",
              " 86968   Rap                 Cardi B  ...            4/4   0.650\n",
              " 86969   Rap  A Boogie Wit da Hoodie  ...            4/4   0.536\n",
              " 86973   Rap             Post Malone  ...            4/4   0.140\n",
              " \n",
              " [20 rows x 18 columns], (9232, 18))"
            ]
          },
          "metadata": {
            "tags": []
          },
          "execution_count": 10
        }
      ]
    },
    {
      "cell_type": "code",
      "metadata": {
        "id": "pkfiPbN2xqM6",
        "colab_type": "code",
        "colab": {}
      },
      "source": [
        "from sklearn.model_selection import train_test_split\n",
        "train, test = train_test_split(Rap, train_size=.8)"
      ],
      "execution_count": 0,
      "outputs": []
    },
    {
      "cell_type": "code",
      "metadata": {
        "id": "UV0q7Cx4yHB0",
        "colab_type": "code",
        "colab": {}
      },
      "source": [
        "target = 'popularity'\n",
        "feature = ['acousticness','danceability','duration_ms',\n",
        "           'energy','instrumentalness','liveness','loudness',\n",
        "           'speechiness','tempo','valence']"
      ],
      "execution_count": 0,
      "outputs": []
    },
    {
      "cell_type": "code",
      "metadata": {
        "id": "JWGuoONraOH3",
        "colab_type": "code",
        "colab": {}
      },
      "source": [
        "X_train = train[feature]\n",
        "X_test = test[feature]\n",
        "\n",
        "y_test = test[target]\n",
        "y_train = train[target]"
      ],
      "execution_count": 0,
      "outputs": []
    },
    {
      "cell_type": "code",
      "metadata": {
        "id": "GdSu6b04zl25",
        "colab_type": "code",
        "colab": {}
      },
      "source": [
        "from sklearn.impute import SimpleImputer\n",
        "from sklearn.pipeline import make_pipeline\n",
        "from sklearn.preprocessing import StandardScaler\n",
        "from sklearn.ensemble import RandomForestRegressor\n",
        "\n",
        "pipeline = make_pipeline(\n",
        "    SimpleImputer(strategy='median'),\n",
        "    StandardScaler(),\n",
        "    RandomForestRegressor(),\n",
        ")\n",
        "\n",
        "pipeline.fit(X_train, y_train)\n",
        "\n",
        "y_pred = pipeline.predict(X_test)"
      ],
      "execution_count": 0,
      "outputs": []
    },
    {
      "cell_type": "code",
      "metadata": {
        "id": "vVWxCj1Vz8yN",
        "colab_type": "code",
        "colab": {
          "base_uri": "https://localhost:8080/",
          "height": 153
        },
        "outputId": "eb765bbe-1603-467b-de57-f739caf4f0fb"
      },
      "source": [
        "from scipy.stats import randint, uniform\n",
        "from sklearn.model_selection import GridSearchCV, RandomizedSearchCV\n",
        "\n",
        "\n",
        "param_distributions = {\n",
        "    'simpleimputer__strategy': ['mean', 'median'], \n",
        "    'randomforestregressor__n_estimators': randint(50, 500), \n",
        "    'randomforestregressor__max_depth': [5, 10, 15, 20, None], \n",
        "    'randomforestregressor__max_features': uniform(0, 1), \n",
        "}\n",
        "\n",
        "# If you're on Colab, decrease n_iter & cv parameters\n",
        "search = RandomizedSearchCV(\n",
        "    pipeline, \n",
        "    param_distributions=param_distributions, \n",
        "    n_iter=10, \n",
        "    cv=3, \n",
        "    scoring='neg_mean_absolute_error', \n",
        "    verbose=10, \n",
        "    return_train_score=True, \n",
        "    n_jobs=-1\n",
        ")\n",
        "\n",
        "search.fit(X_train, y_train);"
      ],
      "execution_count": 15,
      "outputs": [
        {
          "output_type": "stream",
          "text": [
            "Fitting 3 folds for each of 10 candidates, totalling 30 fits\n"
          ],
          "name": "stdout"
        },
        {
          "output_type": "stream",
          "text": [
            "[Parallel(n_jobs=-1)]: Using backend LokyBackend with 2 concurrent workers.\n",
            "[Parallel(n_jobs=-1)]: Done   1 tasks      | elapsed:   10.4s\n",
            "[Parallel(n_jobs=-1)]: Done   4 tasks      | elapsed:   19.2s\n",
            "[Parallel(n_jobs=-1)]: Done   9 tasks      | elapsed:   41.6s\n",
            "[Parallel(n_jobs=-1)]: Done  14 tasks      | elapsed:   49.7s\n",
            "[Parallel(n_jobs=-1)]: Done  21 tasks      | elapsed:  1.2min\n",
            "[Parallel(n_jobs=-1)]: Done  30 out of  30 | elapsed:  1.6min finished\n"
          ],
          "name": "stderr"
        }
      ]
    },
    {
      "cell_type": "code",
      "metadata": {
        "id": "ryrvlR0L_U68",
        "colab_type": "code",
        "colab": {}
      },
      "source": [
        "y_pred = pipeline.predict(X_test)"
      ],
      "execution_count": 0,
      "outputs": []
    },
    {
      "cell_type": "code",
      "metadata": {
        "id": "4be04fDueHB0",
        "colab_type": "code",
        "colab": {
          "base_uri": "https://localhost:8080/",
          "height": 51
        },
        "outputId": "c239f5fe-86ac-4418-a758-27774c58a74b"
      },
      "source": [
        "print('Best hyperparameters', search.best_params_)\n",
        "print('MAE', -search.best_score_)"
      ],
      "execution_count": 17,
      "outputs": [
        {
          "output_type": "stream",
          "text": [
            "Best hyperparameters {'randomforestregressor__max_depth': 15, 'randomforestregressor__max_features': 0.048671349830147426, 'randomforestregressor__n_estimators': 393, 'simpleimputer__strategy': 'mean'}\n",
            "MAE 6.374655946251711\n"
          ],
          "name": "stdout"
        }
      ]
    },
    {
      "cell_type": "code",
      "metadata": {
        "id": "bxb1yrmh4Q7y",
        "colab_type": "code",
        "colab": {
          "base_uri": "https://localhost:8080/",
          "height": 34
        },
        "outputId": "e23f5396-699b-4083-ebda-2c8f88230102"
      },
      "source": [
        "y_pred.shape"
      ],
      "execution_count": 18,
      "outputs": [
        {
          "output_type": "execute_result",
          "data": {
            "text/plain": [
              "(1847,)"
            ]
          },
          "metadata": {
            "tags": []
          },
          "execution_count": 18
        }
      ]
    },
    {
      "cell_type": "code",
      "metadata": {
        "id": "f_jdqNra781t",
        "colab_type": "code",
        "colab": {
          "base_uri": "https://localhost:8080/",
          "height": 34
        },
        "outputId": "9271274e-d026-4a79-b06a-9b32e0f962c4"
      },
      "source": [
        "X_test.shape"
      ],
      "execution_count": 19,
      "outputs": [
        {
          "output_type": "execute_result",
          "data": {
            "text/plain": [
              "(1847, 10)"
            ]
          },
          "metadata": {
            "tags": []
          },
          "execution_count": 19
        }
      ]
    },
    {
      "cell_type": "code",
      "metadata": {
        "id": "C_pebrlP7_By",
        "colab_type": "code",
        "colab": {}
      },
      "source": [
        "# Predictions = pd.DataFrame({'Predict' : y_pred, 'id' : X_test['id'] })"
      ],
      "execution_count": 0,
      "outputs": []
    },
    {
      "cell_type": "code",
      "metadata": {
        "id": "_QMOFW2rTdMs",
        "colab_type": "code",
        "colab": {
          "base_uri": "https://localhost:8080/",
          "height": 419
        },
        "outputId": "5f9a9fc8-9de2-473f-fa9b-beaabc6de3df"
      },
      "source": [
        "X_test"
      ],
      "execution_count": 21,
      "outputs": [
        {
          "output_type": "execute_result",
          "data": {
            "text/html": [
              "<div>\n",
              "<style scoped>\n",
              "    .dataframe tbody tr th:only-of-type {\n",
              "        vertical-align: middle;\n",
              "    }\n",
              "\n",
              "    .dataframe tbody tr th {\n",
              "        vertical-align: top;\n",
              "    }\n",
              "\n",
              "    .dataframe thead th {\n",
              "        text-align: right;\n",
              "    }\n",
              "</style>\n",
              "<table border=\"1\" class=\"dataframe\">\n",
              "  <thead>\n",
              "    <tr style=\"text-align: right;\">\n",
              "      <th></th>\n",
              "      <th>acousticness</th>\n",
              "      <th>danceability</th>\n",
              "      <th>duration_ms</th>\n",
              "      <th>energy</th>\n",
              "      <th>instrumentalness</th>\n",
              "      <th>liveness</th>\n",
              "      <th>loudness</th>\n",
              "      <th>speechiness</th>\n",
              "      <th>tempo</th>\n",
              "      <th>valence</th>\n",
              "    </tr>\n",
              "  </thead>\n",
              "  <tbody>\n",
              "    <tr>\n",
              "      <th>120075</th>\n",
              "      <td>0.04630</td>\n",
              "      <td>0.817</td>\n",
              "      <td>86507</td>\n",
              "      <td>0.450</td>\n",
              "      <td>0.000000</td>\n",
              "      <td>0.0774</td>\n",
              "      <td>-5.557</td>\n",
              "      <td>0.2100</td>\n",
              "      <td>90.104</td>\n",
              "      <td>0.7690</td>\n",
              "    </tr>\n",
              "    <tr>\n",
              "      <th>117455</th>\n",
              "      <td>0.11500</td>\n",
              "      <td>0.551</td>\n",
              "      <td>282173</td>\n",
              "      <td>0.747</td>\n",
              "      <td>0.000000</td>\n",
              "      <td>0.0895</td>\n",
              "      <td>-7.911</td>\n",
              "      <td>0.2540</td>\n",
              "      <td>88.937</td>\n",
              "      <td>0.2050</td>\n",
              "    </tr>\n",
              "    <tr>\n",
              "      <th>120091</th>\n",
              "      <td>0.16600</td>\n",
              "      <td>0.793</td>\n",
              "      <td>207256</td>\n",
              "      <td>0.589</td>\n",
              "      <td>0.000000</td>\n",
              "      <td>0.1230</td>\n",
              "      <td>-5.268</td>\n",
              "      <td>0.1910</td>\n",
              "      <td>149.915</td>\n",
              "      <td>0.4980</td>\n",
              "    </tr>\n",
              "    <tr>\n",
              "      <th>115297</th>\n",
              "      <td>0.00022</td>\n",
              "      <td>0.524</td>\n",
              "      <td>184867</td>\n",
              "      <td>0.939</td>\n",
              "      <td>0.000000</td>\n",
              "      <td>0.6230</td>\n",
              "      <td>-3.994</td>\n",
              "      <td>0.1130</td>\n",
              "      <td>150.184</td>\n",
              "      <td>0.6610</td>\n",
              "    </tr>\n",
              "    <tr>\n",
              "      <th>121674</th>\n",
              "      <td>0.72700</td>\n",
              "      <td>0.837</td>\n",
              "      <td>226052</td>\n",
              "      <td>0.642</td>\n",
              "      <td>0.000000</td>\n",
              "      <td>0.0999</td>\n",
              "      <td>-8.924</td>\n",
              "      <td>0.3460</td>\n",
              "      <td>94.986</td>\n",
              "      <td>0.5680</td>\n",
              "    </tr>\n",
              "    <tr>\n",
              "      <th>...</th>\n",
              "      <td>...</td>\n",
              "      <td>...</td>\n",
              "      <td>...</td>\n",
              "      <td>...</td>\n",
              "      <td>...</td>\n",
              "      <td>...</td>\n",
              "      <td>...</td>\n",
              "      <td>...</td>\n",
              "      <td>...</td>\n",
              "      <td>...</td>\n",
              "    </tr>\n",
              "    <tr>\n",
              "      <th>116448</th>\n",
              "      <td>0.04710</td>\n",
              "      <td>0.717</td>\n",
              "      <td>262137</td>\n",
              "      <td>0.693</td>\n",
              "      <td>0.000000</td>\n",
              "      <td>0.1310</td>\n",
              "      <td>-8.315</td>\n",
              "      <td>0.0339</td>\n",
              "      <td>130.000</td>\n",
              "      <td>0.4970</td>\n",
              "    </tr>\n",
              "    <tr>\n",
              "      <th>115681</th>\n",
              "      <td>0.00945</td>\n",
              "      <td>0.818</td>\n",
              "      <td>190222</td>\n",
              "      <td>0.573</td>\n",
              "      <td>0.000005</td>\n",
              "      <td>0.1140</td>\n",
              "      <td>-8.299</td>\n",
              "      <td>0.2200</td>\n",
              "      <td>134.982</td>\n",
              "      <td>0.3040</td>\n",
              "    </tr>\n",
              "    <tr>\n",
              "      <th>121671</th>\n",
              "      <td>0.08520</td>\n",
              "      <td>0.727</td>\n",
              "      <td>151933</td>\n",
              "      <td>0.645</td>\n",
              "      <td>0.000012</td>\n",
              "      <td>0.4050</td>\n",
              "      <td>-5.994</td>\n",
              "      <td>0.0530</td>\n",
              "      <td>119.957</td>\n",
              "      <td>0.2810</td>\n",
              "    </tr>\n",
              "    <tr>\n",
              "      <th>119342</th>\n",
              "      <td>0.42000</td>\n",
              "      <td>0.589</td>\n",
              "      <td>95709</td>\n",
              "      <td>0.484</td>\n",
              "      <td>0.038500</td>\n",
              "      <td>0.1090</td>\n",
              "      <td>-11.613</td>\n",
              "      <td>0.0742</td>\n",
              "      <td>139.998</td>\n",
              "      <td>0.0726</td>\n",
              "    </tr>\n",
              "    <tr>\n",
              "      <th>87057</th>\n",
              "      <td>0.05950</td>\n",
              "      <td>0.743</td>\n",
              "      <td>194184</td>\n",
              "      <td>0.870</td>\n",
              "      <td>0.000000</td>\n",
              "      <td>0.2990</td>\n",
              "      <td>-2.188</td>\n",
              "      <td>0.2120</td>\n",
              "      <td>99.075</td>\n",
              "      <td>0.8840</td>\n",
              "    </tr>\n",
              "  </tbody>\n",
              "</table>\n",
              "<p>1847 rows × 10 columns</p>\n",
              "</div>"
            ],
            "text/plain": [
              "        acousticness  danceability  duration_ms  ...  speechiness    tempo  valence\n",
              "120075       0.04630         0.817        86507  ...       0.2100   90.104   0.7690\n",
              "117455       0.11500         0.551       282173  ...       0.2540   88.937   0.2050\n",
              "120091       0.16600         0.793       207256  ...       0.1910  149.915   0.4980\n",
              "115297       0.00022         0.524       184867  ...       0.1130  150.184   0.6610\n",
              "121674       0.72700         0.837       226052  ...       0.3460   94.986   0.5680\n",
              "...              ...           ...          ...  ...          ...      ...      ...\n",
              "116448       0.04710         0.717       262137  ...       0.0339  130.000   0.4970\n",
              "115681       0.00945         0.818       190222  ...       0.2200  134.982   0.3040\n",
              "121671       0.08520         0.727       151933  ...       0.0530  119.957   0.2810\n",
              "119342       0.42000         0.589        95709  ...       0.0742  139.998   0.0726\n",
              "87057        0.05950         0.743       194184  ...       0.2120   99.075   0.8840\n",
              "\n",
              "[1847 rows x 10 columns]"
            ]
          },
          "metadata": {
            "tags": []
          },
          "execution_count": 21
        }
      ]
    },
    {
      "cell_type": "markdown",
      "metadata": {
        "id": "kUdDdyJGacRC",
        "colab_type": "text"
      },
      "source": [
        "##Feature Importance"
      ]
    },
    {
      "cell_type": "code",
      "metadata": {
        "id": "ucfSHw_PJJ8z",
        "colab_type": "code",
        "colab": {}
      },
      "source": [
        "\n",
        "transformers = make_pipeline( \n",
        "    SimpleImputer(strategy='median')\n",
        ")"
      ],
      "execution_count": 0,
      "outputs": []
    },
    {
      "cell_type": "code",
      "metadata": {
        "colab_type": "code",
        "id": "hpSemTkFFP8i",
        "colab": {
          "base_uri": "https://localhost:8080/",
          "height": 136
        },
        "outputId": "a328c663-cb46-4895-a580-a1d8371d7360"
      },
      "source": [
        "X_train_transformed = transformers.fit_transform(X_train)\n",
        "X_test_transformed = transformers.transform(X_test)\n",
        "\n",
        "model = RandomForestRegressor(n_estimators=100, random_state=42, n_jobs=-1)\n",
        "model.fit(X_train_transformed, y_train)"
      ],
      "execution_count": 23,
      "outputs": [
        {
          "output_type": "execute_result",
          "data": {
            "text/plain": [
              "RandomForestRegressor(bootstrap=True, ccp_alpha=0.0, criterion='mse',\n",
              "                      max_depth=None, max_features='auto', max_leaf_nodes=None,\n",
              "                      max_samples=None, min_impurity_decrease=0.0,\n",
              "                      min_impurity_split=None, min_samples_leaf=1,\n",
              "                      min_samples_split=2, min_weight_fraction_leaf=0.0,\n",
              "                      n_estimators=100, n_jobs=-1, oob_score=False,\n",
              "                      random_state=42, verbose=0, warm_start=False)"
            ]
          },
          "metadata": {
            "tags": []
          },
          "execution_count": 23
        }
      ]
    },
    {
      "cell_type": "code",
      "metadata": {
        "id": "aLkIYo0fZxhS",
        "colab_type": "code",
        "colab": {
          "base_uri": "https://localhost:8080/",
          "height": 204
        },
        "outputId": "8eb1c5ca-04bc-4c5e-aefb-ecae115f67fa"
      },
      "source": [
        "!pip install eli5"
      ],
      "execution_count": 24,
      "outputs": [
        {
          "output_type": "stream",
          "text": [
            "Requirement already satisfied: eli5 in /usr/local/lib/python3.6/dist-packages (0.10.1)\n",
            "Requirement already satisfied: numpy>=1.9.0 in /usr/local/lib/python3.6/dist-packages (from eli5) (1.17.5)\n",
            "Requirement already satisfied: scipy in /usr/local/lib/python3.6/dist-packages (from eli5) (1.4.1)\n",
            "Requirement already satisfied: attrs>16.0.0 in /usr/local/lib/python3.6/dist-packages (from eli5) (19.3.0)\n",
            "Requirement already satisfied: tabulate>=0.7.7 in /usr/local/lib/python3.6/dist-packages (from eli5) (0.8.6)\n",
            "Requirement already satisfied: graphviz in /usr/local/lib/python3.6/dist-packages (from eli5) (0.10.1)\n",
            "Requirement already satisfied: jinja2 in /usr/local/lib/python3.6/dist-packages (from eli5) (2.10.3)\n",
            "Requirement already satisfied: six in /usr/local/lib/python3.6/dist-packages (from eli5) (1.12.0)\n",
            "Requirement already satisfied: scikit-learn>=0.18 in /usr/local/lib/python3.6/dist-packages (from eli5) (0.22.1)\n",
            "Requirement already satisfied: MarkupSafe>=0.23 in /usr/local/lib/python3.6/dist-packages (from jinja2->eli5) (1.1.1)\n",
            "Requirement already satisfied: joblib>=0.11 in /usr/local/lib/python3.6/dist-packages (from scikit-learn>=0.18->eli5) (0.14.1)\n"
          ],
          "name": "stdout"
        }
      ]
    },
    {
      "cell_type": "code",
      "metadata": {
        "id": "1zfHiZZKJmqf",
        "colab_type": "code",
        "colab": {
          "base_uri": "https://localhost:8080/",
          "height": 644
        },
        "outputId": "fa955e19-bc33-4647-9980-02b4b478b0b6"
      },
      "source": [
        "import eli5\n",
        "from eli5.sklearn import PermutationImportance\n",
        "\n",
        "# 1. Calculate permutation importances\n",
        "permuter = PermutationImportance(\n",
        "    search,\n",
        "    scoring=\"neg_mean_absolute_error\",\n",
        "    n_iter=5,\n",
        "    random_state=42\n",
        ")\n",
        "\n",
        "permuter.fit(X_test_transformed, y_test)"
      ],
      "execution_count": 25,
      "outputs": [
        {
          "output_type": "stream",
          "text": [
            "/usr/local/lib/python3.6/dist-packages/sklearn/utils/deprecation.py:144: FutureWarning: The sklearn.metrics.scorer module is  deprecated in version 0.22 and will be removed in version 0.24. The corresponding classes / functions should instead be imported from sklearn.metrics. Anything that cannot be imported from sklearn.metrics is now part of the private API.\n",
            "  warnings.warn(message, FutureWarning)\n",
            "/usr/local/lib/python3.6/dist-packages/sklearn/utils/deprecation.py:144: FutureWarning: The sklearn.feature_selection.base module is  deprecated in version 0.22 and will be removed in version 0.24. The corresponding classes / functions should instead be imported from sklearn.feature_selection. Anything that cannot be imported from sklearn.feature_selection is now part of the private API.\n",
            "  warnings.warn(message, FutureWarning)\n",
            "Using TensorFlow backend.\n"
          ],
          "name": "stderr"
        },
        {
          "output_type": "display_data",
          "data": {
            "text/html": [
              "<p style=\"color: red;\">\n",
              "The default version of TensorFlow in Colab will soon switch to TensorFlow 2.x.<br>\n",
              "We recommend you <a href=\"https://www.tensorflow.org/guide/migrate\" target=\"_blank\">upgrade</a> now \n",
              "or ensure your notebook will continue to use TensorFlow 1.x via the <code>%tensorflow_version 1.x</code> magic:\n",
              "<a href=\"https://colab.research.google.com/notebooks/tensorflow_version.ipynb\" target=\"_blank\">more info</a>.</p>\n"
            ],
            "text/plain": [
              "<IPython.core.display.HTML object>"
            ]
          },
          "metadata": {
            "tags": []
          }
        },
        {
          "output_type": "execute_result",
          "data": {
            "text/plain": [
              "PermutationImportance(cv='prefit',\n",
              "                      estimator=RandomizedSearchCV(cv=3, error_score=nan,\n",
              "                                                   estimator=Pipeline(memory=None,\n",
              "                                                                      steps=[('simpleimputer',\n",
              "                                                                              SimpleImputer(add_indicator=False,\n",
              "                                                                                            copy=True,\n",
              "                                                                                            fill_value=None,\n",
              "                                                                                            missing_values=nan,\n",
              "                                                                                            strategy='median',\n",
              "                                                                                            verbose=0)),\n",
              "                                                                             ('standardscaler',\n",
              "                                                                              StandardScaler(copy=True,\n",
              "                                                                                             with_mean=True,\n",
              "                                                                                             with_std=True)),\n",
              "                                                                             ('randomforestregressor',\n",
              "                                                                              Ran...\n",
              "                                                                        'randomforestregressor__max_features': <scipy.stats._distn_infrastructure.rv_frozen object at 0x7f8780b71160>,\n",
              "                                                                        'randomforestregressor__n_estimators': <scipy.stats._distn_infrastructure.rv_frozen object at 0x7f8780b55eb8>,\n",
              "                                                                        'simpleimputer__strategy': ['mean',\n",
              "                                                                                                    'median']},\n",
              "                                                   pre_dispatch='2*n_jobs',\n",
              "                                                   random_state=None,\n",
              "                                                   refit=True,\n",
              "                                                   return_train_score=True,\n",
              "                                                   scoring='neg_mean_absolute_error',\n",
              "                                                   verbose=10),\n",
              "                      n_iter=5, random_state=42, refit=True,\n",
              "                      scoring='neg_mean_absolute_error')"
            ]
          },
          "metadata": {
            "tags": []
          },
          "execution_count": 25
        }
      ]
    },
    {
      "cell_type": "code",
      "metadata": {
        "id": "cR47eogfqseX",
        "colab_type": "code",
        "colab": {
          "base_uri": "https://localhost:8080/",
          "height": 204
        },
        "outputId": "13f12a89-1084-4b58-c322-059349d98dc6"
      },
      "source": [
        "feature_names = X_test.columns.tolist()\n",
        "pd.Series(permuter.feature_importances_, feature_names).sort_values()"
      ],
      "execution_count": 26,
      "outputs": [
        {
          "output_type": "execute_result",
          "data": {
            "text/plain": [
              "acousticness        0.002348\n",
              "liveness            0.004553\n",
              "tempo               0.008726\n",
              "valence             0.014845\n",
              "instrumentalness    0.016273\n",
              "duration_ms         0.018550\n",
              "danceability        0.023589\n",
              "energy              0.042050\n",
              "speechiness         0.046724\n",
              "loudness            0.062386\n",
              "dtype: float64"
            ]
          },
          "metadata": {
            "tags": []
          },
          "execution_count": 26
        }
      ]
    },
    {
      "cell_type": "code",
      "metadata": {
        "id": "CV9IAN2QqwTp",
        "colab_type": "code",
        "colab": {
          "base_uri": "https://localhost:8080/",
          "height": 204
        },
        "outputId": "5f75dbb7-2880-42cc-cc6b-cefe96fe6537"
      },
      "source": [
        "# 2. Display permutation importances\n",
        "eli5.show_weights(\n",
        "    permuter, \n",
        "    top=None, # show permutation importances for all features\n",
        "    feature_names=feature_names # must be a list\n",
        ")"
      ],
      "execution_count": 27,
      "outputs": [
        {
          "output_type": "execute_result",
          "data": {
            "text/html": [
              "\n",
              "    <style>\n",
              "    table.eli5-weights tr:hover {\n",
              "        filter: brightness(85%);\n",
              "    }\n",
              "</style>\n",
              "\n",
              "\n",
              "\n",
              "    \n",
              "\n",
              "    \n",
              "\n",
              "    \n",
              "\n",
              "    \n",
              "\n",
              "    \n",
              "\n",
              "    \n",
              "\n",
              "\n",
              "    \n",
              "\n",
              "    \n",
              "\n",
              "    \n",
              "\n",
              "    \n",
              "\n",
              "    \n",
              "\n",
              "    \n",
              "\n",
              "\n",
              "    \n",
              "\n",
              "    \n",
              "\n",
              "    \n",
              "\n",
              "    \n",
              "\n",
              "    \n",
              "        <table class=\"eli5-weights eli5-feature-importances\" style=\"border-collapse: collapse; border: none; margin-top: 0em; table-layout: auto;\">\n",
              "    <thead>\n",
              "    <tr style=\"border: none;\">\n",
              "        <th style=\"padding: 0 1em 0 0.5em; text-align: right; border: none;\">Weight</th>\n",
              "        <th style=\"padding: 0 0.5em 0 0.5em; text-align: left; border: none;\">Feature</th>\n",
              "    </tr>\n",
              "    </thead>\n",
              "    <tbody>\n",
              "    \n",
              "        <tr style=\"background-color: hsl(120, 100.00%, 80.00%); border: none;\">\n",
              "            <td style=\"padding: 0 1em 0 0.5em; text-align: right; border: none;\">\n",
              "                0.0624\n",
              "                \n",
              "                    &plusmn; 0.0247\n",
              "                \n",
              "            </td>\n",
              "            <td style=\"padding: 0 0.5em 0 0.5em; text-align: left; border: none;\">\n",
              "                loudness\n",
              "            </td>\n",
              "        </tr>\n",
              "    \n",
              "        <tr style=\"background-color: hsl(120, 100.00%, 83.66%); border: none;\">\n",
              "            <td style=\"padding: 0 1em 0 0.5em; text-align: right; border: none;\">\n",
              "                0.0467\n",
              "                \n",
              "                    &plusmn; 0.0180\n",
              "                \n",
              "            </td>\n",
              "            <td style=\"padding: 0 0.5em 0 0.5em; text-align: left; border: none;\">\n",
              "                speechiness\n",
              "            </td>\n",
              "        </tr>\n",
              "    \n",
              "        <tr style=\"background-color: hsl(120, 100.00%, 84.83%); border: none;\">\n",
              "            <td style=\"padding: 0 1em 0 0.5em; text-align: right; border: none;\">\n",
              "                0.0420\n",
              "                \n",
              "                    &plusmn; 0.0283\n",
              "                \n",
              "            </td>\n",
              "            <td style=\"padding: 0 0.5em 0 0.5em; text-align: left; border: none;\">\n",
              "                energy\n",
              "            </td>\n",
              "        </tr>\n",
              "    \n",
              "        <tr style=\"background-color: hsl(120, 100.00%, 89.88%); border: none;\">\n",
              "            <td style=\"padding: 0 1em 0 0.5em; text-align: right; border: none;\">\n",
              "                0.0236\n",
              "                \n",
              "                    &plusmn; 0.0182\n",
              "                \n",
              "            </td>\n",
              "            <td style=\"padding: 0 0.5em 0 0.5em; text-align: left; border: none;\">\n",
              "                danceability\n",
              "            </td>\n",
              "        </tr>\n",
              "    \n",
              "        <tr style=\"background-color: hsl(120, 100.00%, 91.44%); border: none;\">\n",
              "            <td style=\"padding: 0 1em 0 0.5em; text-align: right; border: none;\">\n",
              "                0.0186\n",
              "                \n",
              "                    &plusmn; 0.0136\n",
              "                \n",
              "            </td>\n",
              "            <td style=\"padding: 0 0.5em 0 0.5em; text-align: left; border: none;\">\n",
              "                duration_ms\n",
              "            </td>\n",
              "        </tr>\n",
              "    \n",
              "        <tr style=\"background-color: hsl(120, 100.00%, 92.19%); border: none;\">\n",
              "            <td style=\"padding: 0 1em 0 0.5em; text-align: right; border: none;\">\n",
              "                0.0163\n",
              "                \n",
              "                    &plusmn; 0.0068\n",
              "                \n",
              "            </td>\n",
              "            <td style=\"padding: 0 0.5em 0 0.5em; text-align: left; border: none;\">\n",
              "                instrumentalness\n",
              "            </td>\n",
              "        </tr>\n",
              "    \n",
              "        <tr style=\"background-color: hsl(120, 100.00%, 92.68%); border: none;\">\n",
              "            <td style=\"padding: 0 1em 0 0.5em; text-align: right; border: none;\">\n",
              "                0.0148\n",
              "                \n",
              "                    &plusmn; 0.0043\n",
              "                \n",
              "            </td>\n",
              "            <td style=\"padding: 0 0.5em 0 0.5em; text-align: left; border: none;\">\n",
              "                valence\n",
              "            </td>\n",
              "        </tr>\n",
              "    \n",
              "        <tr style=\"background-color: hsl(120, 100.00%, 94.95%); border: none;\">\n",
              "            <td style=\"padding: 0 1em 0 0.5em; text-align: right; border: none;\">\n",
              "                0.0087\n",
              "                \n",
              "                    &plusmn; 0.0222\n",
              "                \n",
              "            </td>\n",
              "            <td style=\"padding: 0 0.5em 0 0.5em; text-align: left; border: none;\">\n",
              "                tempo\n",
              "            </td>\n",
              "        </tr>\n",
              "    \n",
              "        <tr style=\"background-color: hsl(120, 100.00%, 96.80%); border: none;\">\n",
              "            <td style=\"padding: 0 1em 0 0.5em; text-align: right; border: none;\">\n",
              "                0.0046\n",
              "                \n",
              "                    &plusmn; 0.0190\n",
              "                \n",
              "            </td>\n",
              "            <td style=\"padding: 0 0.5em 0 0.5em; text-align: left; border: none;\">\n",
              "                liveness\n",
              "            </td>\n",
              "        </tr>\n",
              "    \n",
              "        <tr style=\"background-color: hsl(120, 100.00%, 97.99%); border: none;\">\n",
              "            <td style=\"padding: 0 1em 0 0.5em; text-align: right; border: none;\">\n",
              "                0.0023\n",
              "                \n",
              "                    &plusmn; 0.0083\n",
              "                \n",
              "            </td>\n",
              "            <td style=\"padding: 0 0.5em 0 0.5em; text-align: left; border: none;\">\n",
              "                acousticness\n",
              "            </td>\n",
              "        </tr>\n",
              "    \n",
              "    \n",
              "    </tbody>\n",
              "</table>\n",
              "    \n",
              "\n",
              "    \n",
              "\n",
              "\n",
              "    \n",
              "\n",
              "    \n",
              "\n",
              "    \n",
              "\n",
              "    \n",
              "\n",
              "    \n",
              "\n",
              "    \n",
              "\n",
              "\n",
              "\n"
            ],
            "text/plain": [
              "<IPython.core.display.HTML object>"
            ]
          },
          "metadata": {
            "tags": []
          },
          "execution_count": 27
        }
      ]
    },
    {
      "cell_type": "code",
      "metadata": {
        "colab_type": "code",
        "id": "tZrPFyEMYii9",
        "colab": {
          "base_uri": "https://localhost:8080/",
          "height": 34
        },
        "outputId": "fc273d6f-2dbd-459b-e5da-ed3417c7bf00"
      },
      "source": [
        "print('Shape before removing features:', X_train.shape)"
      ],
      "execution_count": 28,
      "outputs": [
        {
          "output_type": "stream",
          "text": [
            "Shape before removing features: (7385, 10)\n"
          ],
          "name": "stdout"
        }
      ]
    },
    {
      "cell_type": "code",
      "metadata": {
        "id": "VtxcnDgmMEey",
        "colab_type": "code",
        "colab": {}
      },
      "source": [
        "minimum_importance = 0\n",
        "mask = permuter.feature_importances_ > minimum_importance\n",
        "features = X_train.columns[mask]\n",
        "X_train = X_train[features]"
      ],
      "execution_count": 0,
      "outputs": []
    },
    {
      "cell_type": "code",
      "metadata": {
        "id": "9tFs0d9GFvOl",
        "colab_type": "code",
        "colab": {
          "base_uri": "https://localhost:8080/",
          "height": 85
        },
        "outputId": "e169a06f-5b30-4c15-9c6a-15376d53acd8"
      },
      "source": [
        "features"
      ],
      "execution_count": 30,
      "outputs": [
        {
          "output_type": "execute_result",
          "data": {
            "text/plain": [
              "Index(['acousticness', 'danceability', 'duration_ms', 'energy',\n",
              "       'instrumentalness', 'liveness', 'loudness', 'speechiness', 'tempo',\n",
              "       'valence'],\n",
              "      dtype='object')"
            ]
          },
          "metadata": {
            "tags": []
          },
          "execution_count": 30
        }
      ]
    },
    {
      "cell_type": "code",
      "metadata": {
        "id": "2hEGieGuME0G",
        "colab_type": "code",
        "colab": {
          "base_uri": "https://localhost:8080/",
          "height": 34
        },
        "outputId": "b08b160b-a690-43e1-8a29-5ecf3e4ea927"
      },
      "source": [
        "print('Shape after removing features:', X_train.shape)"
      ],
      "execution_count": 31,
      "outputs": [
        {
          "output_type": "stream",
          "text": [
            "Shape after removing features: (7385, 10)\n"
          ],
          "name": "stdout"
        }
      ]
    },
    {
      "cell_type": "code",
      "metadata": {
        "id": "4Lf5Ptz0MG01",
        "colab_type": "code",
        "colab": {
          "base_uri": "https://localhost:8080/",
          "height": 34
        },
        "outputId": "934ce616-a6cd-49a7-f999-df042806ef6e"
      },
      "source": [
        "X_test = X_test[features]\n",
        "\n",
        "pipeline = make_pipeline( \n",
        "    SimpleImputer(strategy='median'), \n",
        "    RandomForestRegressor(n_estimators=100, random_state=42, n_jobs=-1)\n",
        ")\n",
        "\n",
        "# Fit on train, score on val\n",
        "pipeline.fit(X_train, y_train)\n",
        "print('R2 Scored: ', pipeline.score(X_test, y_test))"
      ],
      "execution_count": 32,
      "outputs": [
        {
          "output_type": "stream",
          "text": [
            "R2 Scored:  0.009771844125555429\n"
          ],
          "name": "stdout"
        }
      ]
    },
    {
      "cell_type": "code",
      "metadata": {
        "colab_type": "code",
        "id": "H805sN5RrBQl",
        "colab": {
          "base_uri": "https://localhost:8080/",
          "height": 153
        },
        "outputId": "2bf8f2b9-2939-4562-b984-d09af3295a43"
      },
      "source": [
        "param_distributions = {\n",
        "    'simpleimputer__strategy': ['mean', 'median'], \n",
        "    'randomforestregressor__n_estimators': randint(50, 500), \n",
        "    'randomforestregressor__max_depth': [5, 10, 15, 20, None], \n",
        "    'randomforestregressor__max_features': uniform(0, 1), \n",
        "}\n",
        "\n",
        "# If you're on Colab, decrease n_iter & cv parameters\n",
        "search = RandomizedSearchCV(\n",
        "    pipeline, \n",
        "    param_distributions=param_distributions, \n",
        "    n_iter=10, \n",
        "    cv=3, \n",
        "    scoring='neg_mean_absolute_error', \n",
        "    verbose=10, \n",
        "    return_train_score=True, \n",
        "    n_jobs=-1\n",
        ")\n",
        "\n",
        "search.fit(X_train, y_train);"
      ],
      "execution_count": 33,
      "outputs": [
        {
          "output_type": "stream",
          "text": [
            "Fitting 3 folds for each of 10 candidates, totalling 30 fits\n"
          ],
          "name": "stdout"
        },
        {
          "output_type": "stream",
          "text": [
            "[Parallel(n_jobs=-1)]: Using backend LokyBackend with 2 concurrent workers.\n",
            "[Parallel(n_jobs=-1)]: Done   1 tasks      | elapsed:    1.9s\n",
            "[Parallel(n_jobs=-1)]: Done   4 tasks      | elapsed:    6.6s\n",
            "[Parallel(n_jobs=-1)]: Done   9 tasks      | elapsed:   47.7s\n",
            "[Parallel(n_jobs=-1)]: Done  14 tasks      | elapsed:  1.3min\n",
            "[Parallel(n_jobs=-1)]: Done  21 tasks      | elapsed:  1.5min\n",
            "[Parallel(n_jobs=-1)]: Done  30 out of  30 | elapsed:  1.9min finished\n"
          ],
          "name": "stderr"
        }
      ]
    },
    {
      "cell_type": "code",
      "metadata": {
        "id": "FyvJ7_Sedl-S",
        "colab_type": "code",
        "colab": {
          "base_uri": "https://localhost:8080/",
          "height": 51
        },
        "outputId": "a08b3301-96e1-4915-86e6-dc37ab7bd011"
      },
      "source": [
        "y_pred = pipeline.predict(X_test)\n",
        "print('Best hyperparameters', search.best_params_)\n",
        "print('MAE', -search.best_score_)"
      ],
      "execution_count": 34,
      "outputs": [
        {
          "output_type": "stream",
          "text": [
            "Best hyperparameters {'randomforestregressor__max_depth': 5, 'randomforestregressor__max_features': 0.6671858201035501, 'randomforestregressor__n_estimators': 309, 'simpleimputer__strategy': 'mean'}\n",
            "MAE 6.378107034623702\n"
          ],
          "name": "stdout"
        }
      ]
    },
    {
      "cell_type": "code",
      "metadata": {
        "id": "Om2_fGyeeDzv",
        "colab_type": "code",
        "colab": {}
      },
      "source": [
        ""
      ],
      "execution_count": 0,
      "outputs": []
    }
  ]
}